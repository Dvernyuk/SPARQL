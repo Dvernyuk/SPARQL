{
 "cells": [
  {
   "cell_type": "markdown",
   "metadata": {},
   "source": [
    "# G12 | DMYTRO VERNYUK Y MIKHAIL RONCHYK"
   ]
  },
  {
   "cell_type": "markdown",
   "metadata": {},
   "source": [
    "- # Consulta 1"
   ]
  },
  {
   "cell_type": "markdown",
   "metadata": {},
   "source": [
    "Hans Zimmer (Q76364) es un famoso compositor de muchas bandas sonoras de\n",
    "películas. Vamos a comenzar por averiguar su fecha y lugar de nacimiento."
   ]
  },
  {
   "cell_type": "raw",
   "metadata": {},
   "source": [
    "SELECT ?lugar ?lugarLabel ?fecha\n",
    "WHERE\n",
    "{\n",
    " wd:Q76364 wdt:P569 ?fecha; #extrae la fecha de nacimineto del sujeto\n",
    "           wdt:P19 ?lugar.  #extrae el lugar de nacimineto del sujeto\n",
    "\n",
    "  SERVICE wikibase:label { bd:serviceParam wikibase:language \"en\". }\n",
    "}"
   ]
  },
  {
   "cell_type": "markdown",
   "metadata": {},
   "source": [
    "<html><head><meta charset=\"utf-8\"></head><body><table><thead><tr><th>lugar</th><th>lugarLabel</th><th>fecha</th></tr></thead><tbody><tr><td>http://www.wikidata.org/entity/Q1794</td><td>Frankfurt am Main</td><td>1957-09-12T00:00:00Z</td></tr></tbody></table></body></html>"
   ]
  },
  {
   "cell_type": "markdown",
   "metadata": {},
   "source": [
    "- # Consulta 2"
   ]
  },
  {
   "cell_type": "markdown",
   "metadata": {},
   "source": [
    "A continuación, vamos a averiguar los instrumentos que toca. Queremos obtener los\n",
    "resultados ordenados alfabéticamente por el nombre del instrumento."
   ]
  },
  {
   "cell_type": "raw",
   "metadata": {},
   "source": [
    "SELECT ?instrumento ?instrumentoLabel\n",
    "WHERE\n",
    "{\n",
    " wd:Q76364 wdt:P1303 ?instrumento. #extrae los instrumentos que toca el sujeto\n",
    "\n",
    "  SERVICE wikibase:label { bd:serviceParam wikibase:language \"en\". }\n",
    "}\n",
    "ORDER BY (?instrumentoLabel)"
   ]
  },
  {
   "cell_type": "markdown",
   "metadata": {},
   "source": [
    "<html><head><meta charset=\"utf-8\"></head><body><table><thead><tr><th>instrumento</th><th>instrumentoLabel</th></tr></thead><tbody><tr><td>http://www.wikidata.org/entity/Q258896</td><td>banjo</td></tr><tr><td>http://www.wikidata.org/entity/Q46185</td><td>bass guitar</td></tr><tr><td>http://www.wikidata.org/entity/Q6607</td><td>guitar</td></tr><tr><td>http://www.wikidata.org/entity/Q52954</td><td>keyboard instrument</td></tr><tr><td>http://www.wikidata.org/entity/Q5994</td><td>piano</td></tr><tr><td>http://www.wikidata.org/entity/Q163829</td><td>synthesizer</td></tr></tbody></table></body></html>"
   ]
  },
  {
   "cell_type": "markdown",
   "metadata": {},
   "source": [
    "- # Consulta 3"
   ]
  },
  {
   "cell_type": "markdown",
   "metadata": {},
   "source": [
    "¿Cuales de los instrumentos que toca son instrumentos de cuerda? Ten en cuenta que\n",
    "los instrumentos pueden ser indirectamente de cuerda a través de varias relaciones\n",
    "subclase."
   ]
  },
  {
   "cell_type": "raw",
   "metadata": {},
   "source": [
    "SELECT ?instrumento ?instrumentoLabel\n",
    "WHERE\n",
    "{\n",
    " wd:Q76364 wdt:P1303 ?instrumento.   #extrae los instrumentos que toca el sujeto\n",
    " ?instrumento wdt:P279* wd:Q1798603. #de esos insturmentos selecciona los que pertenecen a la subclase instrumentos de cuerda\n",
    "                                     #directa o indirectamente\n",
    "\n",
    "  SERVICE wikibase:label { bd:serviceParam wikibase:language \"en\". }\n",
    "}"
   ]
  },
  {
   "cell_type": "markdown",
   "metadata": {},
   "source": [
    "<html><head><meta charset=\"utf-8\"></head><body><table><thead><tr><th>instrumento</th><th>instrumentoLabel</th></tr></thead><tbody><tr><td>http://www.wikidata.org/entity/Q5994</td><td>piano</td></tr><tr><td>http://www.wikidata.org/entity/Q258896</td><td>banjo</td></tr><tr><td>http://www.wikidata.org/entity/Q6607</td><td>guitar</td></tr><tr><td>http://www.wikidata.org/entity/Q46185</td><td>bass guitar</td></tr></tbody></table></body></html>"
   ]
  },
  {
   "cell_type": "markdown",
   "metadata": {},
   "source": [
    "- # Consulta 4"
   ]
  },
  {
   "cell_type": "markdown",
   "metadata": {},
   "source": [
    "Zimmer ha recibido muchas nominaciones y premios a lo largo de su carrera.\n",
    "Queremos obtener una lista de nominaciones y para cada una de ellas el trabajo por el\n",
    "cual fue nominado. Para resolver esta consulta necesitarás acceder a los cualificadores\n",
    "de nodos sentencia y necesitarás entender los prefijos que usa Wikidata."
   ]
  },
  {
   "cell_type": "raw",
   "metadata": {},
   "source": [
    "SELECT  ?premio ?premioLabel ?añoLabel ?trabajoLabel\n",
    "WHERE {\n",
    "                                        #extraemos cada premio que ha ganado, por cada premio vemos ->\n",
    "  wd:Q76364 p:P1411 [ps:P1411 ?premio;  #el nombre del premio\n",
    "                     pq:P1686 ?trabajo; #el trabajo por el cual ha ganado\n",
    "                     pq:P805 ?año].     #el numero de la gala\n",
    "                     \n",
    "  SERVICE wikibase:label { bd:serviceParam wikibase:language \"en\". }\n",
    "}"
   ]
  },
  {
   "cell_type": "markdown",
   "metadata": {},
   "source": [
    "<html><head><meta charset=\"utf-8\"></head><body><table><thead><tr><th>premio</th><th>premioLabel</th><th>añoLabel</th><th>trabajoLabel</th></tr></thead><tbody><tr><td>http://www.wikidata.org/entity/Q22235305</td><td>Academy Award for Best Original Musical or Comedy Score</td><td>70th Academy Awards</td><td>As Good as It Gets</td></tr><tr><td>http://www.wikidata.org/entity/Q22235305</td><td>Academy Award for Best Original Musical or Comedy Score</td><td>69th Academy Awards</td><td>The Preacher's Wife</td></tr><tr><td>http://www.wikidata.org/entity/Q488651</td><td>Academy Award for Best Original Score</td><td>67th Academy Awards</td><td>The Lion King</td></tr><tr><td>http://www.wikidata.org/entity/Q22235329</td><td>Academy Award for Best Original Dramatic Score</td><td>71st Academy Awards</td><td>The Thin Red Line</td></tr><tr><td>http://www.wikidata.org/entity/Q488651</td><td>Academy Award for Best Original Score</td><td>82nd Academy Awards</td><td>Sherlock Holmes</td></tr><tr><td>http://www.wikidata.org/entity/Q22235305</td><td>Academy Award for Best Original Musical or Comedy Score</td><td>71st Academy Awards</td><td>The Prince of Egypt</td></tr><tr><td>http://www.wikidata.org/entity/Q488651</td><td>Academy Award for Best Original Score</td><td>83rd Academy Awards</td><td>Inception</td></tr><tr><td>http://www.wikidata.org/entity/Q488651</td><td>Academy Award for Best Original Score</td><td>73rd Academy Awards</td><td>Gladiator</td></tr><tr><td>http://www.wikidata.org/entity/Q488651</td><td>Academy Award for Best Original Score</td><td>61st Academy Awards</td><td>Rain Man</td></tr><tr><td>http://www.wikidata.org/entity/Q488651</td><td>Academy Award for Best Original Score</td><td>87th Academy Awards</td><td>Interstellar</td></tr></tbody></table></body></html>"
   ]
  },
  {
   "cell_type": "markdown",
   "metadata": {},
   "source": [
    "- # Consulta 5"
   ]
  },
  {
   "cell_type": "markdown",
   "metadata": {},
   "source": [
    "Ahora queremos conocer el título de todas las películas en las que Zimmer ha\n",
    "colaborado como compositor. Se mostrarán ordenadas alfabéticamente y debes tener\n",
    "cuidado de no mostrar resultados repetidos. "
   ]
  },
  {
   "cell_type": "raw",
   "metadata": {},
   "source": [
    "SELECT ?pelicula ?peliculaLabel\n",
    "WHERE\n",
    "{\n",
    "  ?pelicula wdt:P86 wd:Q76364; #peliculas que compuso el compositor\n",
    "            wdt:P31 wd:Q11424. #cada pelicula es una instancia de la clase pelicula\n",
    "            \n",
    "SERVICE wikibase:label { bd:serviceParam wikibase:language \"en\". }\n",
    "}\n",
    "ORDER BY ?peliculaLabel"
   ]
  },
  {
   "cell_type": "markdown",
   "metadata": {},
   "source": [
    "<html><head><meta charset=\"utf-8\"></head><body><table><thead><tr><th>pelicula</th><th>peliculaLabel</th></tr></thead><tbody><tr><td>http://www.wikidata.org/entity/Q3023357</td><td>12 Years a Slave</td></tr><tr><td>http://www.wikidata.org/entity/Q1306472</td><td>A League of Their Own</td></tr><tr><td>http://www.wikidata.org/entity/Q232130</td><td>A World Apart</td></tr><tr><td>http://www.wikidata.org/entity/Q4749984</td><td>An Everlasting Piece</td></tr><tr><td>http://www.wikidata.org/entity/Q192934</td><td>Angels &amp; Demons</td></tr><tr><td>http://www.wikidata.org/entity/Q221594</td><td>As Good as It Gets</td></tr><tr><td>http://www.wikidata.org/entity/Q499371</td><td>Backdraft</td></tr><tr><td>http://www.wikidata.org/entity/Q16155083</td><td>Batkid</td></tr><tr><td>http://www.wikidata.org/entity/Q166262</td><td>Batman Begins</td></tr><tr><td>http://www.wikidata.org/entity/Q14772351</td><td>Batman v Superman: Dawn of Justice</td></tr><tr><td>http://www.wikidata.org/entity/Q47069744</td><td>Believer</td></tr><tr><td>http://www.wikidata.org/entity/Q1753610</td><td>Beyond Rangoon</td></tr><tr><td>http://www.wikidata.org/entity/Q135347</td><td>Bird on a Wire</td></tr><tr><td>http://www.wikidata.org/entity/Q221384</td><td>Black Hawk Down</td></tr><tr><td>http://www.wikidata.org/entity/Q1048085</td><td>Black Rain</td></tr><tr><td>http://www.wikidata.org/entity/Q21500755</td><td>Blade Runner 2049</td></tr><tr><td>http://www.wikidata.org/entity/Q392915</td><td>Broken Arrow</td></tr><tr><td>http://www.wikidata.org/entity/Q583623</td><td>Burning Secret</td></tr><tr><td>http://www.wikidata.org/entity/Q3402011</td><td>Calendar Girl</td></tr><tr><td>http://www.wikidata.org/entity/Q15209986</td><td>Chappie</td></tr><tr><td>http://www.wikidata.org/entity/Q2963312</td><td>Chicago Joe and the Showgirl</td></tr><tr><td>http://www.wikidata.org/entity/Q1192764</td><td>Chill Factor</td></tr><tr><td>http://www.wikidata.org/entity/Q1140085</td><td>Crimson Tide</td></tr><tr><td>http://www.wikidata.org/entity/Q4096517</td><td>Dark Obsession</td></tr><tr><td>http://www.wikidata.org/entity/Q31188935</td><td>Dark Phoenix</td></tr><tr><td>http://www.wikidata.org/entity/Q603696</td><td>Days of Thunder</td></tr><tr><td>http://www.wikidata.org/entity/Q211373</td><td>Driving Miss Daisy</td></tr><tr><td>http://www.wikidata.org/entity/Q1260289</td><td>Drop Zone</td></tr><tr><td>http://www.wikidata.org/entity/Q60834962</td><td>Dune</td></tr><tr><td>http://www.wikidata.org/entity/Q21935651</td><td>Dunkirk</td></tr><tr><td>http://www.wikidata.org/entity/Q4376535</td><td>Fools of Fortune</td></tr><tr><td>http://www.wikidata.org/entity/Q18210299</td><td>Freeheld</td></tr><tr><td>http://www.wikidata.org/entity/Q691672</td><td>Frost/Nixon</td></tr><tr><td>http://www.wikidata.org/entity/Q128518</td><td>Gladiator</td></tr><tr><td>http://www.wikidata.org/entity/Q505135</td><td>Green Card</td></tr><tr><td>http://www.wikidata.org/entity/Q722682</td><td>Hannibal</td></tr><tr><td>http://www.wikidata.org/entity/Q23755544</td><td>Hidden Figures</td></tr><tr><td>http://www.wikidata.org/entity/Q523197</td><td>How Do You Know</td></tr><tr><td>http://www.wikidata.org/entity/Q853425</td><td>I'll Do Anything</td></tr><tr><td>http://www.wikidata.org/entity/Q25188</td><td>Inception</td></tr><tr><td>http://www.wikidata.org/entity/Q18192306</td><td>Inferno</td></tr><tr><td>http://www.wikidata.org/entity/Q13417189</td><td>Interstellar</td></tr><tr><td>http://www.wikidata.org/entity/Q640762</td><td>Invincible</td></tr><tr><td>http://www.wikidata.org/entity/Q843950</td><td>It's Complicated</td></tr><tr><td>http://www.wikidata.org/entity/Q337090</td><td>King Arthur</td></tr><tr><td>http://www.wikidata.org/entity/Q622769</td><td>Man of Steel</td></tr><tr><td>http://www.wikidata.org/entity/Q4536</td><td>Matchstick Men</td></tr><tr><td>http://www.wikidata.org/entity/Q505790</td><td>Mission: Impossible II</td></tr><tr><td>http://www.wikidata.org/entity/Q6928990</td><td>Mr. Morgan's Last Love</td></tr><tr><td>http://www.wikidata.org/entity/Q18511204</td><td>Nightmare at Noon</td></tr><tr><td>http://www.wikidata.org/entity/Q955389</td><td>Nine Months</td></tr><tr><td>http://www.wikidata.org/entity/Q21534241</td><td>No Time to Die</td></tr><tr><td>http://www.wikidata.org/entity/Q1148079</td><td>Pacific Heights</td></tr><tr><td>http://www.wikidata.org/entity/Q194413</td><td>Pearl Harbor</td></tr><tr><td>http://www.wikidata.org/entity/Q161087</td><td>Pirates of the Caribbean: Dead Man's Chest</td></tr><tr><td>http://www.wikidata.org/entity/Q46717</td><td>Pirates of the Caribbean: The Curse of the Black Pearl</td></tr><tr><td>http://www.wikidata.org/entity/Q577469</td><td>Point of No Return</td></tr><tr><td>http://www.wikidata.org/entity/Q12128282</td><td>Radio Flyer</td></tr><tr><td>http://www.wikidata.org/entity/Q188845</td><td>Rain Man</td></tr><tr><td>http://www.wikidata.org/entity/Q603865</td><td>Regarding Henry</td></tr><tr><td>http://www.wikidata.org/entity/Q129288</td><td>Renaissance Man</td></tr><tr><td>http://www.wikidata.org/entity/Q1313530</td><td>Riding in Cars with Boys</td></tr><tr><td>http://www.wikidata.org/entity/Q1768437</td><td>Rush</td></tr><tr><td>http://www.wikidata.org/entity/Q1058489</td><td>Sadako 3D</td></tr><tr><td>http://www.wikidata.org/entity/Q57983078</td><td>Separate Vacations</td></tr><tr><td>http://www.wikidata.org/entity/Q200396</td><td>Sherlock Holmes</td></tr><tr><td>http://www.wikidata.org/entity/Q243643</td><td>Sherlock Holmes: A Game of Shadows</td></tr><tr><td>http://www.wikidata.org/entity/Q1544085</td><td>Something to Talk About</td></tr><tr><td>http://www.wikidata.org/entity/Q584766</td><td>Something's Gotta Givej</td></tr><tr><td>http://www.wikidata.org/entity/Q15137718</td><td>Son of God</td></tr><tr><td>http://www.wikidata.org/entity/Q3964671</td><td>Son of Morning</td></tr><tr><td>http://www.wikidata.org/entity/Q1367647</td><td>Spanglish</td></tr><tr><td>http://www.wikidata.org/entity/Q459889</td><td>Tears of the Sun</td></tr><tr><td>http://www.wikidata.org/entity/Q7702661</td><td>Terminal Exposure</td></tr><tr><td>http://www.wikidata.org/entity/Q4254026</td><td>The Amazing Spider-Man 2</td></tr><tr><td>http://www.wikidata.org/entity/Q856805</td><td>The Boat That Rocked</td></tr><tr><td>http://www.wikidata.org/entity/Q160560</td><td>The Da Vinci Code</td></tr><tr><td>http://www.wikidata.org/entity/Q163872</td><td>The Dark Knight</td></tr><tr><td>http://www.wikidata.org/entity/Q189330</td><td>The Dark Knight Rises</td></tr><tr><td>http://www.wikidata.org/entity/Q1210206</td><td>The Dilemma</td></tr><tr><td>http://www.wikidata.org/entity/Q390299</td><td>The Fan</td></tr><tr><td>http://www.wikidata.org/entity/Q7735390</td><td>The Fruit Machine</td></tr><tr><td>http://www.wikidata.org/entity/Q478748</td><td>The Holiday</td></tr><tr><td>http://www.wikidata.org/entity/Q312394</td><td>The House of the Spirits</td></tr><tr><td>http://www.wikidata.org/entity/Q571014</td><td>The Last Days</td></tr><tr><td>http://www.wikidata.org/entity/Q18151554</td><td>The Last Face</td></tr><tr><td>http://www.wikidata.org/entity/Q207130</td><td>The Last Samurai</td></tr><tr><td>http://www.wikidata.org/entity/Q2406188</td><td>The Lightship</td></tr><tr><td>http://www.wikidata.org/entity/Q27044293</td><td>The Lion King</td></tr><tr><td>http://www.wikidata.org/entity/Q1141706</td><td>The Peacemaker</td></tr><tr><td>http://www.wikidata.org/entity/Q150949</td><td>The Power of One</td></tr><tr><td>http://www.wikidata.org/entity/Q1475674</td><td>The Preacher's Wife</td></tr><tr><td>http://www.wikidata.org/entity/Q212804</td><td>The Ring</td></tr><tr><td>http://www.wikidata.org/entity/Q85530211</td><td>The Road of Love</td></tr><tr><td>http://www.wikidata.org/entity/Q216720</td><td>The Rock</td></tr><tr><td>http://www.wikidata.org/entity/Q61450772</td><td>The SpongeBob Movie: Sponge on the Run</td></tr><tr><td>http://www.wikidata.org/entity/Q221491</td><td>The Thin Red Line</td></tr><tr><td>http://www.wikidata.org/entity/Q60296</td><td>The Weather Man</td></tr><tr><td>http://www.wikidata.org/entity/Q27958082</td><td>The Wind</td></tr><tr><td>http://www.wikidata.org/entity/Q17184103</td><td>The Woman in Gold</td></tr><tr><td>http://www.wikidata.org/entity/Q4327979</td><td>The Zero Boys</td></tr><tr><td>http://www.wikidata.org/entity/Q658041</td><td>Thelma &amp; Louise</td></tr><tr><td>http://www.wikidata.org/entity/Q31202708</td><td>Top Gun: Maverick</td></tr><tr><td>http://www.wikidata.org/entity/Q1849238</td><td>Toys</td></tr><tr><td>http://www.wikidata.org/entity/Q1127709</td><td>True Romance</td></tr><tr><td>http://www.wikidata.org/entity/Q4424430</td><td>Twister</td></tr><tr><td>http://www.wikidata.org/entity/Q7858914</td><td>Two Deaths</td></tr><tr><td>http://www.wikidata.org/entity/Q29163736</td><td>Widows</td></tr><tr><td>http://www.wikidata.org/entity/Q3569395</td><td>Winter's Tale</td></tr><tr><td>http://www.wikidata.org/entity/Q33408623</td><td>Wonder Woman 1984</td></tr><tr><td>http://www.wikidata.org/entity/Q1472370</td><td>Younger and Younger</td></tr></tbody></table></body></html>"
   ]
  },
  {
   "cell_type": "markdown",
   "metadata": {},
   "source": [
    "- # Consulta 6"
   ]
  },
  {
   "cell_type": "markdown",
   "metadata": {},
   "source": [
    "Zimmer es sin duda un compositor prolífico. ¿Exactamente en cuentas películas ha\n",
    "participado como compositor? "
   ]
  },
  {
   "cell_type": "raw",
   "metadata": {},
   "source": [
    "SELECT (COUNT(?pelicula) AS ?peliculas)\n",
    "WHERE\n",
    "{\n",
    "  ?pelicula wdt:P86 wd:Q76364;\n",
    "            wdt:P31 wd:Q11424.\n",
    "}"
   ]
  },
  {
   "cell_type": "markdown",
   "metadata": {},
   "source": [
    "<html><head><meta charset=\"utf-8\"></head><body><table><thead><tr><th>peliculas</th></tr></thead><tbody><tr><td>111</td></tr></tbody></table></body></html>"
   ]
  },
  {
   "cell_type": "markdown",
   "metadata": {},
   "source": [
    "- # Consulta 7"
   ]
  },
  {
   "cell_type": "markdown",
   "metadata": {},
   "source": [
    "Es importante que las películas tengan una duración adecuada, ni muy cortas ni\n",
    "demasiado largas. De todas las películas en las que ha colaborado Zimmer como\n",
    "compositor, ¿cuáles duran entre 90 y 120 minutos? Muestra los resultados ordenados\n",
    "alfabéticamente. Para cada película muestra el título y la duración.\n",
    "\n",
    "Algunas películas (como Salto al peligro) pueden tener varias duraciones (supongo\n",
    "que son distintas versiones de la película). En este apartado no importa si aparecen\n",
    "varias veces en los resultados. "
   ]
  },
  {
   "cell_type": "raw",
   "metadata": {},
   "source": [
    "SELECT ?pelicula ?peliculaLabel (MAX(?duracion) AS ?duracionMAX)\n",
    "WHERE\n",
    "{\n",
    "  ?pelicula wdt:P86 wd:Q76364;   #peliculas en las que el compositor es Hans Zimmer\n",
    "            wdt:P31 wd:Q11424;   #peliculas que sean instancia de pelicula\n",
    "            wdt:P2047 ?duracion. #extraemos la duracion de cada pelicula\n",
    "            \n",
    "  FILTER (90 < ?duracion && ?duracion < 120) #filtra todas las peliculas por la duracion entre 90 y 120\n",
    "SERVICE wikibase:label { bd:serviceParam wikibase:language \"en\". }\n",
    "}\n",
    "Group by ?pelicula ?peliculaLabel\n",
    "ORDER BY ?peliculaLabel"
   ]
  },
  {
   "cell_type": "markdown",
   "metadata": {},
   "source": [
    "<html><head><meta charset=\"utf-8\"></head><body><table><thead><tr><th>pelicula</th><th>peliculaLabel</th><th>duracionMAX</th></tr></thead><tbody><tr><td>http://www.wikidata.org/entity/Q232130</td><td>A World Apart</td><td>112</td></tr><tr><td>http://www.wikidata.org/entity/Q4749984</td><td>An Everlasting Piece</td><td>108</td></tr><tr><td>http://www.wikidata.org/entity/Q1753610</td><td>Beyond Rangoon</td><td>95</td></tr><tr><td>http://www.wikidata.org/entity/Q135347</td><td>Bird on a Wire</td><td>110</td></tr><tr><td>http://www.wikidata.org/entity/Q392915</td><td>Broken Arrow</td><td>110</td></tr><tr><td>http://www.wikidata.org/entity/Q2963312</td><td>Chicago Joe and the Showgirl</td><td>103</td></tr><tr><td>http://www.wikidata.org/entity/Q1192764</td><td>Chill Factor</td><td>101</td></tr><tr><td>http://www.wikidata.org/entity/Q1140085</td><td>Crimson Tide</td><td>111</td></tr><tr><td>http://www.wikidata.org/entity/Q31188935</td><td>Dark Phoenix</td><td>114</td></tr><tr><td>http://www.wikidata.org/entity/Q603696</td><td>Days of Thunder</td><td>107</td></tr><tr><td>http://www.wikidata.org/entity/Q211373</td><td>Driving Miss Daisy</td><td>99</td></tr><tr><td>http://www.wikidata.org/entity/Q1260289</td><td>Drop Zone</td><td>102</td></tr><tr><td>http://www.wikidata.org/entity/Q21935651</td><td>Dunkirk</td><td>106</td></tr><tr><td>http://www.wikidata.org/entity/Q18210299</td><td>Freeheld</td><td>103</td></tr><tr><td>http://www.wikidata.org/entity/Q505135</td><td>Green Card</td><td>102</td></tr><tr><td>http://www.wikidata.org/entity/Q523197</td><td>How Do You Know</td><td>116</td></tr><tr><td>http://www.wikidata.org/entity/Q853425</td><td>I'll Do Anything</td><td>115</td></tr><tr><td>http://www.wikidata.org/entity/Q843950</td><td>It's Complicated</td><td>118</td></tr><tr><td>http://www.wikidata.org/entity/Q4536</td><td>Matchstick Men</td><td>111</td></tr><tr><td>http://www.wikidata.org/entity/Q6928990</td><td>Mr. Morgan's Last Love</td><td>116</td></tr><tr><td>http://www.wikidata.org/entity/Q18511204</td><td>Nightmare at Noon</td><td>96</td></tr><tr><td>http://www.wikidata.org/entity/Q955389</td><td>Nine Months</td><td>103</td></tr><tr><td>http://www.wikidata.org/entity/Q1148079</td><td>Pacific Heights</td><td>103</td></tr><tr><td>http://www.wikidata.org/entity/Q577469</td><td>Point of No Return</td><td>103</td></tr><tr><td>http://www.wikidata.org/entity/Q12128282</td><td>Radio Flyer</td><td>114</td></tr><tr><td>http://www.wikidata.org/entity/Q603865</td><td>Regarding Henry</td><td>108</td></tr><tr><td>http://www.wikidata.org/entity/Q129288</td><td>Renaissance Man</td><td>117</td></tr><tr><td>http://www.wikidata.org/entity/Q1058489</td><td>Sadako 3D</td><td>96</td></tr><tr><td>http://www.wikidata.org/entity/Q1544085</td><td>Something to Talk About</td><td>106</td></tr><tr><td>http://www.wikidata.org/entity/Q1210206</td><td>The Dilemma</td><td>111</td></tr><tr><td>http://www.wikidata.org/entity/Q390299</td><td>The Fan</td><td>111</td></tr><tr><td>http://www.wikidata.org/entity/Q2406188</td><td>The Lightship</td><td>92</td></tr><tr><td>http://www.wikidata.org/entity/Q27044293</td><td>The Lion King</td><td>118</td></tr><tr><td>http://www.wikidata.org/entity/Q1141706</td><td>The Peacemaker</td><td>118</td></tr><tr><td>http://www.wikidata.org/entity/Q1475674</td><td>The Preacher's Wife</td><td>119</td></tr><tr><td>http://www.wikidata.org/entity/Q212804</td><td>The Ring</td><td>116</td></tr><tr><td>http://www.wikidata.org/entity/Q60296</td><td>The Weather Man</td><td>102</td></tr><tr><td>http://www.wikidata.org/entity/Q17184103</td><td>The Woman in Gold</td><td>109</td></tr><tr><td>http://www.wikidata.org/entity/Q1849238</td><td>Toys</td><td>116</td></tr><tr><td>http://www.wikidata.org/entity/Q4424430</td><td>Twister</td><td>93</td></tr><tr><td>http://www.wikidata.org/entity/Q7858914</td><td>Two Deaths</td><td>102</td></tr><tr><td>http://www.wikidata.org/entity/Q3569395</td><td>Winter's Tale</td><td>118</td></tr></tbody></table></body></html>"
   ]
  },
  {
   "cell_type": "markdown",
   "metadata": {},
   "source": [
    "- # Consulta 8"
   ]
  },
  {
   "cell_type": "markdown",
   "metadata": {},
   "source": [
    "Vamos a recuperar ahora las películas más actuales en las que Zimmer ha colaborado\n",
    "como compositor. Estamos interesados específicamente en películas que se hayan\n",
    "estrenado a partir de 2005.\n",
    "\n",
    "Seguramente, en tu primer intento verás que cada película aparece repetida varias\n",
    "veces con fechas distintas porque Wikidata contiene las fechas de estreno en cada \n",
    "país. Vamos a considerar que la fecha real de estreno de la película es la fecha más\n",
    "antigua de todas ellas.\n",
    "\n",
    "Para que cada película aparezca sólo una vez con la fecha correcta necesitarás agrupar\n",
    "las respuestas por película y título, y aplicar una función de agregación sobre las\n",
    "fechas de publicación. Los resultados se tienen que mostrar ordenados\n",
    "alfabéticamente. "
   ]
  },
  {
   "cell_type": "raw",
   "metadata": {},
   "source": [
    "SELECT ?pelicula ?peliculaLabel (MIN(?fecha) AS ?fechaMin)\n",
    "WHERE\n",
    "{\n",
    "  ?pelicula wdt:P86 wd:Q76364; #pelicula que tiene como compositor al sujeto\n",
    "            wdt:P31 wd:Q11424; #de instancia pelicula\n",
    "            wdt:P577 ?fecha.   #de la cual extraemos la fecha de publicacion\n",
    "            \n",
    "  FILTER (\"2005-01-01\"^^xsd:dateTime <= ?fecha) #filtra los datos para que su fecha como minimo sea 2005\n",
    "SERVICE wikibase:label { bd:serviceParam wikibase:language \"en\". }\n",
    "}\n",
    "GROUP BY ?pelicula ?peliculaLabel\n",
    "ORDER BY ?peliculaLabel"
   ]
  },
  {
   "cell_type": "markdown",
   "metadata": {},
   "source": [
    "<html><head><meta charset=\"utf-8\"></head><body><table><thead><tr><th>pelicula</th><th>peliculaLabel</th><th>fechaMin</th></tr></thead><tbody><tr><td>http://www.wikidata.org/entity/Q3023357</td><td>12 Years a Slave</td><td>2013-08-30T00:00:00Z</td></tr><tr><td>http://www.wikidata.org/entity/Q192934</td><td>Angels &amp; Demons</td><td>2009-01-01T00:00:00Z</td></tr><tr><td>http://www.wikidata.org/entity/Q16155083</td><td>Batkid</td><td>2015-01-01T00:00:00Z</td></tr><tr><td>http://www.wikidata.org/entity/Q166262</td><td>Batman Begins</td><td>2005-06-15T00:00:00Z</td></tr><tr><td>http://www.wikidata.org/entity/Q14772351</td><td>Batman v Superman: Dawn of Justice</td><td>2016-03-23T00:00:00Z</td></tr><tr><td>http://www.wikidata.org/entity/Q47069744</td><td>Believer</td><td>2018-01-01T00:00:00Z</td></tr><tr><td>http://www.wikidata.org/entity/Q21500755</td><td>Blade Runner 2049</td><td>2017-10-03T00:00:00Z</td></tr><tr><td>http://www.wikidata.org/entity/Q15209986</td><td>Chappie</td><td>2015-03-05T00:00:00Z</td></tr><tr><td>http://www.wikidata.org/entity/Q31188935</td><td>Dark Phoenix</td><td>2019-06-05T00:00:00Z</td></tr><tr><td>http://www.wikidata.org/entity/Q60834962</td><td>Dune</td><td>2020-01-01T00:00:00Z</td></tr><tr><td>http://www.wikidata.org/entity/Q21935651</td><td>Dunkirk</td><td>2017-07-13T00:00:00Z</td></tr><tr><td>http://www.wikidata.org/entity/Q18210299</td><td>Freeheld</td><td>2015-01-01T00:00:00Z</td></tr><tr><td>http://www.wikidata.org/entity/Q691672</td><td>Frost/Nixon</td><td>2008-10-15T00:00:00Z</td></tr><tr><td>http://www.wikidata.org/entity/Q23755544</td><td>Hidden Figures</td><td>2016-12-26T00:00:00Z</td></tr><tr><td>http://www.wikidata.org/entity/Q523197</td><td>How Do You Know</td><td>2010-01-01T00:00:00Z</td></tr><tr><td>http://www.wikidata.org/entity/Q25188</td><td>Inception</td><td>2010-07-08T00:00:00Z</td></tr><tr><td>http://www.wikidata.org/entity/Q18192306</td><td>Inferno</td><td>2016-10-13T00:00:00Z</td></tr><tr><td>http://www.wikidata.org/entity/Q13417189</td><td>Interstellar</td><td>2014-10-26T00:00:00Z</td></tr><tr><td>http://www.wikidata.org/entity/Q843950</td><td>It's Complicated</td><td>2009-12-24T00:00:00Z</td></tr><tr><td>http://www.wikidata.org/entity/Q622769</td><td>Man of Steel</td><td>2013-06-10T00:00:00Z</td></tr><tr><td>http://www.wikidata.org/entity/Q6928990</td><td>Mr. Morgan's Last Love</td><td>2013-06-01T00:00:00Z</td></tr><tr><td>http://www.wikidata.org/entity/Q21534241</td><td>No Time to Die</td><td>2020-11-12T00:00:00Z</td></tr><tr><td>http://www.wikidata.org/entity/Q161087</td><td>Pirates of the Caribbean: Dead Man's Chest</td><td>2006-07-07T00:00:00Z</td></tr><tr><td>http://www.wikidata.org/entity/Q1768437</td><td>Rush</td><td>2013-09-02T00:00:00Z</td></tr><tr><td>http://www.wikidata.org/entity/Q1058489</td><td>Sadako 3D</td><td>2012-05-12T00:00:00Z</td></tr><tr><td>http://www.wikidata.org/entity/Q200396</td><td>Sherlock Holmes</td><td>2009-12-24T00:00:00Z</td></tr><tr><td>http://www.wikidata.org/entity/Q243643</td><td>Sherlock Holmes: A Game of Shadows</td><td>2011-12-16T00:00:00Z</td></tr><tr><td>http://www.wikidata.org/entity/Q15137718</td><td>Son of God</td><td>2014-02-28T00:00:00Z</td></tr><tr><td>http://www.wikidata.org/entity/Q3964671</td><td>Son of Morning</td><td>2011-01-01T00:00:00Z</td></tr><tr><td>http://www.wikidata.org/entity/Q1367647</td><td>Spanglish</td><td>2005-04-07T00:00:00Z</td></tr><tr><td>http://www.wikidata.org/entity/Q4254026</td><td>The Amazing Spider-Man 2</td><td>2014-04-17T00:00:00Z</td></tr><tr><td>http://www.wikidata.org/entity/Q856805</td><td>The Boat That Rocked</td><td>2009-01-01T00:00:00Z</td></tr><tr><td>http://www.wikidata.org/entity/Q160560</td><td>The Da Vinci Code</td><td>2006-05-17T00:00:00Z</td></tr><tr><td>http://www.wikidata.org/entity/Q163872</td><td>The Dark Knight</td><td>2008-07-18T00:00:00Z</td></tr><tr><td>http://www.wikidata.org/entity/Q189330</td><td>The Dark Knight Rises</td><td>2012-07-20T00:00:00Z</td></tr><tr><td>http://www.wikidata.org/entity/Q1210206</td><td>The Dilemma</td><td>2011-01-01T00:00:00Z</td></tr><tr><td>http://www.wikidata.org/entity/Q478748</td><td>The Holiday</td><td>2006-12-05T00:00:00Z</td></tr><tr><td>http://www.wikidata.org/entity/Q18151554</td><td>The Last Face</td><td>2015-01-01T00:00:00Z</td></tr><tr><td>http://www.wikidata.org/entity/Q27044293</td><td>The Lion King</td><td>2019-07-17T00:00:00Z</td></tr><tr><td>http://www.wikidata.org/entity/Q61450772</td><td>The SpongeBob Movie: Sponge on the Run</td><td>2020-01-01T00:00:00Z</td></tr><tr><td>http://www.wikidata.org/entity/Q60296</td><td>The Weather Man</td><td>2005-01-01T00:00:00Z</td></tr><tr><td>http://www.wikidata.org/entity/Q17184103</td><td>The Woman in Gold</td><td>2015-02-09T00:00:00Z</td></tr><tr><td>http://www.wikidata.org/entity/Q31202708</td><td>Top Gun: Maverick</td><td>2020-07-15T00:00:00Z</td></tr><tr><td>http://www.wikidata.org/entity/Q29163736</td><td>Widows</td><td>2018-11-06T00:00:00Z</td></tr><tr><td>http://www.wikidata.org/entity/Q3569395</td><td>Winter's Tale</td><td>2014-02-10T00:00:00Z</td></tr><tr><td>http://www.wikidata.org/entity/Q33408623</td><td>Wonder Woman 1984</td><td>2020-06-05T00:00:00Z</td></tr></tbody></table></body></html>"
   ]
  },
  {
   "cell_type": "markdown",
   "metadata": {},
   "source": [
    "- # Consulta 9"
   ]
  },
  {
   "cell_type": "markdown",
   "metadata": {},
   "source": [
    "En una película pueden colaborar varios músicos. ¿Qué otros compositores han\n",
    "compuesto junto a Zimmer en una película? Para cada uno de ellos muestra su\n",
    "nombre, la fecha de nacimiento y (si ha fallecido) la fecha de defunción. Los resultados\n",
    "deben aparecer ordenados alfabéticamente."
   ]
  },
  {
   "cell_type": "raw",
   "metadata": {},
   "source": [
    "SELECT DISTINCT ?compositor ?compositorLabel ?nacimiento ?fallecido \n",
    "WHERE\n",
    "{ \n",
    "  ?compositor wdt:P31 wd:Q5.        #compositor como instancia de ser humano\n",
    "  ?compositor wdt:P106 wd:Q36834.   #y de ocupacion compositor\n",
    "  ?pelicula wdt:P86 wd:Q76364;      #peliculas que tengan como compositor al sujeto\n",
    "            wdt:P86 ?compositor;    #guardamos todos los compositores que participaron en la pelicula\n",
    "            wdt:P31 wd:Q11424.      #pelicula es instancia de pelicula\n",
    "  ?compositor wdt:P569 ?nacimiento. #buscamos la fecha de nacimiento de cada compositor\n",
    "  \n",
    "  OPTIONAL { ?compositor wdt:P570 ?fallecido. } #opcionalmente comprobamos su fecha de fallecimiento\n",
    "  \n",
    "  FILTER (?compositor != wd:Q76364) #nos libramos del propio sujeto en los datos\n",
    "SERVICE wikibase:label { bd:serviceParam wikibase:language \"en\". }\n",
    "}\n",
    "ORDER BY ?compositorLabel"
   ]
  },
  {
   "cell_type": "markdown",
   "metadata": {},
   "source": [
    "<html><head><meta charset=\"utf-8\"></head><body><table><thead><tr><th>compositor</th><th>compositorLabel</th><th>nacimiento</th><th>fallecido</th></tr></thead><tbody><tr><td>http://www.wikidata.org/entity/Q352722</td><td>Alfredo Catalani</td><td>1854-06-19T00:00:00Z</td><td>1893-08-07T00:00:00Z</td></tr><tr><td>http://www.wikidata.org/entity/Q471537</td><td>Dzhiván Gasparián</td><td>1928-10-12T00:00:00Z</td><td></td></tr><tr><td>http://www.wikidata.org/entity/Q372489</td><td>Harold Faltermeyer</td><td>1952-10-05T00:00:00Z</td><td></td></tr><tr><td>http://www.wikidata.org/entity/Q213869</td><td>James Newton Howard</td><td>1951-06-09T00:00:00Z</td><td></td></tr><tr><td>http://www.wikidata.org/entity/Q266429</td><td>Junkie XL</td><td>1967-12-08T00:00:00Z</td><td></td></tr><tr><td>http://www.wikidata.org/entity/Q443712</td><td>Kenji Kawai</td><td>1957-04-23T00:00:00Z</td><td></td></tr><tr><td>http://www.wikidata.org/entity/Q57833</td><td>Klaus Badelt</td><td>1967-06-12T00:00:00Z</td><td></td></tr><tr><td>http://www.wikidata.org/entity/Q40580</td><td>Lisa Gerrard</td><td>1961-04-12T00:00:00Z</td><td></td></tr><tr><td>http://www.wikidata.org/entity/Q1383645</td><td>Nick Glennie-Smith</td><td>1951-10-03T00:00:00Z</td><td></td></tr><tr><td>http://www.wikidata.org/entity/Q14313</td><td>Pharrell Williams</td><td>1973-04-05T00:00:00Z</td><td></td></tr><tr><td>http://www.wikidata.org/entity/Q730252</td><td>Stanley Myers</td><td>1930-10-06T00:00:00Z</td><td>1993-11-09T00:00:00Z</td></tr><tr><td>http://www.wikidata.org/entity/Q319996</td><td>Thomas Newman</td><td>1955-10-20T00:00:00Z</td><td></td></tr></tbody></table></body></html>"
   ]
  },
  {
   "cell_type": "markdown",
   "metadata": {},
   "source": [
    "- # Consulta 10"
   ]
  },
  {
   "cell_type": "markdown",
   "metadata": {},
   "source": [
    "¿Cuántos asertos hay sobre Zimmer en Wikidata? Ten en cuenta que Zimmer puede\n",
    "aparecer tanto como sujeto como objeto de cada tripleta."
   ]
  },
  {
   "cell_type": "raw",
   "metadata": {},
   "source": [
    "SELECT (COUNT(?aserto) AS ?asertos)\n",
    "WHERE\n",
    "{\n",
    "  wd:Q76364 wdt:P31/wdt:P279* ?aserto. #todas las instancias que forma con todas las subclases que se desencadenan\n",
    "}"
   ]
  },
  {
   "cell_type": "markdown",
   "metadata": {},
   "source": [
    "<html><head><meta charset=\"utf-8\"></head><body><table><thead><tr><th>asertos</th></tr></thead><tbody><tr><td>21</td></tr></tbody></table></body></html>"
   ]
  }
 ],
 "metadata": {
  "kernelspec": {
   "display_name": "Python 3",
   "language": "python",
   "name": "python3"
  },
  "language_info": {
   "codemirror_mode": {
    "name": "ipython",
    "version": 3
   },
   "file_extension": ".py",
   "mimetype": "text/x-python",
   "name": "python",
   "nbconvert_exporter": "python",
   "pygments_lexer": "ipython3",
   "version": "3.7.4"
  }
 },
 "nbformat": 4,
 "nbformat_minor": 2
}
